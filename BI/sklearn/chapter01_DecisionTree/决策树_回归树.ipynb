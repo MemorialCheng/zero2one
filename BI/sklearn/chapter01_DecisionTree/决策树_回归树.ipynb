{
 "cells": [
  {
   "cell_type": "markdown",
   "id": "60cefebf",
   "metadata": {},
   "source": [
    "# 回归树\n",
    "DecisionTreeRegressor  \n",
    "- 重要参数：criterion\n",
    "回归树衡量分枝质量的指标，支持的标准有三种：  \n",
    "1）输入\"mse\"使用均方误差mean squared error(MSE)，父节点和叶子节点之间的均方误差的差额将被用来作为\n",
    "特征选择的标准，这种方法通过使用叶子节点的均值来最小化L2损失；  \n",
    "2）输入“friedman_mse”使用费尔德曼均方误差，这种指标使用弗里德曼针对潜在分枝中的问题改进后的均方误差；  \n",
    "3）输入\"mae\"使用绝对平均误差MAE（mean absolute error），这种指标使用叶节点的中值来最小化L1损失。  \n",
    "\n",
    "属性中最重要的依然是feature_importances_，接口依然是apply, fit, predict, score最核心。"
   ]
  },
  {
   "cell_type": "code",
   "execution_count": null,
   "id": "9466838c",
   "metadata": {},
   "outputs": [],
   "source": []
  },
  {
   "cell_type": "code",
   "execution_count": null,
   "id": "f584d73f",
   "metadata": {},
   "outputs": [],
   "source": []
  },
  {
   "cell_type": "code",
   "execution_count": null,
   "id": "a9a458e7",
   "metadata": {},
   "outputs": [],
   "source": []
  },
  {
   "cell_type": "code",
   "execution_count": null,
   "id": "359bc95b",
   "metadata": {},
   "outputs": [],
   "source": []
  },
  {
   "cell_type": "code",
   "execution_count": null,
   "id": "ab54a387",
   "metadata": {},
   "outputs": [],
   "source": []
  },
  {
   "cell_type": "code",
   "execution_count": null,
   "id": "967097ec",
   "metadata": {},
   "outputs": [],
   "source": []
  },
  {
   "cell_type": "code",
   "execution_count": null,
   "id": "604c32b1",
   "metadata": {},
   "outputs": [],
   "source": []
  },
  {
   "cell_type": "code",
   "execution_count": null,
   "id": "46ffd303",
   "metadata": {},
   "outputs": [],
   "source": []
  },
  {
   "cell_type": "code",
   "execution_count": null,
   "id": "aa35a382",
   "metadata": {},
   "outputs": [],
   "source": []
  },
  {
   "cell_type": "code",
   "execution_count": null,
   "id": "a3ad2bb7",
   "metadata": {},
   "outputs": [],
   "source": []
  }
 ],
 "metadata": {
  "kernelspec": {
   "display_name": "Python [conda env:tf2.0] *",
   "language": "python",
   "name": "conda-env-tf2.0-py"
  },
  "language_info": {
   "codemirror_mode": {
    "name": "ipython",
    "version": 3
   },
   "file_extension": ".py",
   "mimetype": "text/x-python",
   "name": "python",
   "nbconvert_exporter": "python",
   "pygments_lexer": "ipython3",
   "version": "3.7.7"
  }
 },
 "nbformat": 4,
 "nbformat_minor": 5
}
